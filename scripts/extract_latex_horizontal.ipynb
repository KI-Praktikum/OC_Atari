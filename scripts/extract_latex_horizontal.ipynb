{
 "cells": [
  {
   "cell_type": "code",
   "execution_count": null,
   "metadata": {},
   "outputs": [],
   "source": [
    "import pandas as pd\n",
    "import pickle\n",
    "from termcolor import colored\n"
   ]
  },
  {
   "cell_type": "code",
   "execution_count": null,
   "metadata": {},
   "outputs": [],
   "source": [
    "pkl_report_file = \"../reports/all_games_report.pkl\"\n",
    "latex_report_file = \"../reports/all_games_report.tex\"\n",
    "with open(pkl_report_file, \"rb\") as savefile:\n",
    "    df = pickle.load(savefile)"
   ]
  },
  {
   "cell_type": "code",
   "execution_count": null,
   "metadata": {},
   "outputs": [],
   "source": [
    "df = df[~df.index.duplicated(keep='last')]\n",
    "nb_games = len(df)\n",
    "print(colored(f\"{nb_games} out of 35 done !\"))\n",
    "\n",
    "# df.fillna(\"N/A\", inplace=True)\n",
    "dfT = df.T\n",
    "dfT[\"mean\"] = dfT.mean(axis=1)\n",
    "df = dfT.T\n",
    "\n",
    "df = df.round(1)\n",
    "\n",
    "dfT = dfT.drop(index=(\"C51\"))\n",
    "\n"
   ]
  },
  {
   "cell_type": "code",
   "execution_count": null,
   "metadata": {},
   "outputs": [],
   "source": [
    "dfT"
   ]
  },
  {
   "cell_type": "code",
   "execution_count": null,
   "metadata": {},
   "outputs": [],
   "source": [
    "styler = dfT.style\n",
    "styler.background_gradient(cmap='Spectral', vmin=0, vmax=100,)\n",
    "styler.format(precision=1, na_rep=\"N/A\")\n",
    "styler.highlight_null(\"gray\")\n",
    "styler.map_index(\n",
    "    lambda v: \"rotatebox:{90}--rwrap--latex;\", level=0, axis=1\n",
    ")\n",
    "styler.set_properties(**{'width': '3px'})\n",
    "styler.format('', na_rep='MISS')  \n",
    "ltx_code = styler.to_latex(\n",
    "    caption=f\"Statistiques on all games\",\n",
    "    clines=\"skip-last;data\",\n",
    "    convert_css=True,\n",
    "    position_float=\"centering\",\n",
    "    hrules=True,\n",
    "    multicol_align=\"c\"\n",
    ")\n"
   ]
  },
  {
   "cell_type": "code",
   "execution_count": null,
   "metadata": {},
   "outputs": [],
   "source": [
    "styler"
   ]
  },
  {
   "cell_type": "code",
   "execution_count": null,
   "metadata": {},
   "outputs": [],
   "source": [
    "\n",
    "ltx_code = ltx_code.replace(\"100.0\", \"100\").replace(\"\\n & 0 \\\\\\\\\\n\\\\midrule\", \"\")\n",
    "ltx_code = ltx_code.replace(\n",
    "        \"ChopperCommand\", \"ChopperC.\").replace(\"SpaceInvaders\", \"SpaceInv.\").replace(\"MontezumaRevenge\", \"MontezumaR.\").replace(\"\\\\midrule\", \"\")\\\n",
    "        .replace(\"\\\\bottomrule\", \"\").replace(\"\\\\toprule\", \"\").replace(\"Random\", \"\\\\rotatebox{90}{Random}\").replace(\"DQN\", \"\\\\rotatebox{90}{DQN}\")\\\n",
    "        .replace(\"\\centering\", \"\\centering \\n \\setlength{\\\\tabcolsep}{3pt}\").replace(\"\\\\cline{1-16}\", \"\")\n"
   ]
  },
  {
   "cell_type": "code",
   "execution_count": null,
   "metadata": {},
   "outputs": [],
   "source": [
    "ltx_code"
   ]
  },
  {
   "cell_type": "code",
   "execution_count": null,
   "metadata": {},
   "outputs": [],
   "source": [
    "with open(latex_report_file, 'w') as texfile:\n",
    "    texfile.write(ltx_code)"
   ]
  },
  {
   "cell_type": "code",
   "execution_count": null,
   "metadata": {},
   "outputs": [],
   "source": []
  }
 ],
 "metadata": {
  "kernelspec": {
   "display_name": "env",
   "language": "python",
   "name": "python3"
  },
  "language_info": {
   "codemirror_mode": {
    "name": "ipython",
    "version": 3
   },
   "file_extension": ".py",
   "mimetype": "text/x-python",
   "name": "python",
   "nbconvert_exporter": "python",
   "pygments_lexer": "ipython3",
   "version": "3.11.5"
  }
 },
 "nbformat": 4,
 "nbformat_minor": 2
}
